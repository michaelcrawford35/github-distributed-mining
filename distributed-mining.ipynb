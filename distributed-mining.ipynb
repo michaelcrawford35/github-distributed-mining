{
 "cells": [
  {
   "cell_type": "code",
   "execution_count": 9,
   "id": "inside-pencil",
   "metadata": {},
   "outputs": [],
   "source": [
    "from github import Github\n",
    "from github_token import TOKEN\n",
    "\n",
    "client = Github(TOKEN)\n",
    "\n",
    "REPO = 'godotengine/godot'\n",
    "repo = client.get_repo(REPO)"
   ]
  },
  {
   "cell_type": "code",
   "execution_count": 12,
   "id": "sustained-karaoke",
   "metadata": {},
   "outputs": [],
   "source": [
    "from gh_graph_utils import augment_owns, augment_stargazers\n",
    "import networkx as nx\n",
    "\n",
    "graph = nx.DiGraph()\n",
    "graph.add_node(repo.name, node_type='repo')"
   ]
  },
  {
   "cell_type": "code",
   "execution_count": 13,
   "id": "approximate-kingdom",
   "metadata": {},
   "outputs": [],
   "source": [
    "visited_users = set()\n",
    "newusers = augment_stargazers(graph, repo)"
   ]
  },
  {
   "cell_type": "code",
   "execution_count": null,
   "id": "pregnant-handle",
   "metadata": {},
   "outputs": [],
   "source": []
  }
 ],
 "metadata": {
  "kernelspec": {
   "display_name": "Python 3",
   "language": "python",
   "name": "python3"
  },
  "language_info": {
   "codemirror_mode": {
    "name": "ipython",
    "version": 3
   },
   "file_extension": ".py",
   "mimetype": "text/x-python",
   "name": "python",
   "nbconvert_exporter": "python",
   "pygments_lexer": "ipython3",
   "version": "3.9.1"
  }
 },
 "nbformat": 4,
 "nbformat_minor": 5
}
