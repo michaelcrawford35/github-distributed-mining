{
 "cells": [
  {
   "cell_type": "code",
   "execution_count": 1,
   "id": "backed-switzerland",
   "metadata": {},
   "outputs": [],
   "source": [
    "from github import Github\n",
    "from github_token import TOKEN\n",
    "\n",
    "client = Github(TOKEN)\n",
    "\n",
    "REPO = 'godotengine/godot'\n",
    "repo = client.get_repo(REPO)"
   ]
  },
  {
   "cell_type": "code",
   "execution_count": 2,
   "id": "upper-huntington",
   "metadata": {},
   "outputs": [],
   "source": [
    "from gh_graph_utils import augment_owns, augment_stargazers\n",
    "import networkx as nx\n",
    "\n",
    "graph = nx.DiGraph()\n",
    "graph.add_node(repo.name, node_type='repo')"
   ]
  },
  {
   "cell_type": "code",
   "execution_count": 3,
   "id": "interim-architecture",
   "metadata": {},
   "outputs": [],
   "source": [
    "visited_users = set()\n",
    "newusers = augment_stargazers(graph, repo)"
   ]
  },
  {
   "cell_type": "code",
   "execution_count": null,
   "id": "patient-technical",
   "metadata": {},
   "outputs": [],
   "source": [
    "#alternate running this with the next cell\n",
    "newrepos = []\n",
    "nx.write_gpickle(graph, 'repo-start.pkl')\n",
    "for user in newusers:\n",
    "    if not user in visited_users:\n",
    "        newrepos.extend(augment_owns(graph, user, lang=True))\n",
    "        visited_users.add(user)"
   ]
  },
  {
   "cell_type": "code",
   "execution_count": 5,
   "id": "dependent-consultation",
   "metadata": {},
   "outputs": [],
   "source": [
    "newusers = []\n",
    "nx.write_gpickle(graph, 'repo-start.pkl')\n",
    "for repo in newrepos:\n",
    "    newusers.extend(augment_stargazers(graph, repo))"
   ]
  },
  {
   "cell_type": "code",
   "execution_count": null,
   "id": "informative-newsletter",
   "metadata": {},
   "outputs": [],
   "source": []
  }
 ],
 "metadata": {
  "kernelspec": {
   "display_name": "Python 3",
   "language": "python",
   "name": "python3"
  },
  "language_info": {
   "codemirror_mode": {
    "name": "ipython",
    "version": 3
   },
   "file_extension": ".py",
   "mimetype": "text/x-python",
   "name": "python",
   "nbconvert_exporter": "python",
   "pygments_lexer": "ipython3",
   "version": "3.9.1"
  }
 },
 "nbformat": 4,
 "nbformat_minor": 5
}
